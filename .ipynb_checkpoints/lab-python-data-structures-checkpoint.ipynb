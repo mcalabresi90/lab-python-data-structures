{
 "cells": [
  {
   "cell_type": "code",
   "execution_count": 1,
   "id": "79197d04-0e50-4bda-a047-06961b55c295",
   "metadata": {},
   "outputs": [],
   "source": [
    "#1 Define a list called products that contains the following items: \"t-shirt\", \"mug\", \"hat\", \"book\", \"keychain\".\n",
    "\n",
    "products = [\"t-shirt\", \"mug\", \"hat\", \"book\", \"keychain\"]"
   ]
  },
  {
   "cell_type": "code",
   "execution_count": 2,
   "id": "a835e30d-d5b6-45df-85f3-d2576ca5bd69",
   "metadata": {},
   "outputs": [],
   "source": [
    "#2 Create an empty dictionary called inventory.\n",
    "inventory = {}"
   ]
  },
  {
   "cell_type": "code",
   "execution_count": 40,
   "id": "93190319-a949-455f-8c25-c940676c947f",
   "metadata": {},
   "outputs": [
    {
     "name": "stdin",
     "output_type": "stream",
     "text": [
      "Enter the quantity of t-shirt:  5\n",
      "Enter the quantity of mug:  66\n",
      "Enter the quantity of hat:  23\n",
      "Enter the quantity of book:  21\n",
      "Enter the quantity of keychain:  5\n"
     ]
    },
    {
     "name": "stdout",
     "output_type": "stream",
     "text": [
      "total of products:  {'t-shirt': 5, 'mug': 66, 'hat': 23, 'book': 21, 'keychain': 5}\n"
     ]
    }
   ],
   "source": [
    "#3 Ask the user to input the quantity of each product available in the inventory. \n",
    "#Use the product names from the products list as keys in the inventory dictionary and assign the respective quantities as values.\n",
    "\n",
    "for product in products:\n",
    "    quantity = int(input(f\"Enter the quantity of {product}: \"))\n",
    "    inventory [product] = quantity\n",
    "print (\"total of products: \", inventory)"
   ]
  },
  {
   "cell_type": "code",
   "execution_count": 65,
   "id": "9c93eac2-7b11-4fff-8e52-421d7956ca70",
   "metadata": {},
   "outputs": [],
   "source": [
    "#4 Create an empty set called customer_orders.\n",
    "\n",
    "customer_orders = {}\n"
   ]
  },
  {
   "cell_type": "code",
   "execution_count": 71,
   "id": "dab5b928-781f-4157-82aa-4dd74fb36bc6",
   "metadata": {},
   "outputs": [
    {
     "name": "stdin",
     "output_type": "stream",
     "text": [
      "Enter product:  hat\n",
      "Enter product:  mug\n",
      "Enter product:  hat\n"
     ]
    }
   ],
   "source": [
    "#5 Ask the user to input the name of three products that a customer wants to order (from those in the products list, meaning three products out of \"t-shirt\", \"mug\", \"hat\", \"book\" or \"keychain\".\n",
    "# Add each product name to the customer_orders set.\n",
    "\n",
    "for i in range (3): \n",
    "    order = input(\"Enter product: \")\n",
    "    while order not in products:\n",
    "        print (f\"Invalid product, choose from the list: \", products)\n",
    "        order = input(\"Enter product: \")\n",
    "    customer_orders[order] = customer_orders.get(order,0) + 1\n",
    "\n"
   ]
  },
  {
   "cell_type": "code",
   "execution_count": 72,
   "id": "b549bf4c-3e2c-445d-bb9e-976b150738c7",
   "metadata": {},
   "outputs": [
    {
     "name": "stdout",
     "output_type": "stream",
     "text": [
      "{'hat': 4, 'mug': 2}\n"
     ]
    }
   ],
   "source": [
    "#6 Print the products in the customer_orders set.\n",
    "print (customer_orders)"
   ]
  },
  {
   "cell_type": "code",
   "execution_count": 73,
   "id": "45fd1aba-8616-4a27-9306-8a8b4c8a0b58",
   "metadata": {},
   "outputs": [
    {
     "name": "stdout",
     "output_type": "stream",
     "text": [
      "6\n"
     ]
    }
   ],
   "source": [
    "#7 Calculate the following order statistics:\n",
    "# Total Products Ordered: The total number of products in the customer_orders set.\n",
    "total_products_ordered = sum(customer_orders.values())\n",
    "print (total_products_ordered)\n"
   ]
  },
  {
   "cell_type": "code",
   "execution_count": 82,
   "id": "136b748f-02eb-4146-97a3-fa85651fd73a",
   "metadata": {},
   "outputs": [
    {
     "name": "stdout",
     "output_type": "stream",
     "text": [
      "The total amount of products is:  120\n",
      "The total amount of products ordered is:  6\n",
      "The percentage of products ordered is in relation to stock is: 5.0 %\n"
     ]
    }
   ],
   "source": [
    "# Percentage of Products Ordered: The percentage of products ordered compared to the total available products.\n",
    "total_available_products = sum(inventory.values())\n",
    "percentage_of_products_ordered = (total_products_ordered / total_available_products) * 100\n"
   ]
  },
  {
   "cell_type": "code",
   "execution_count": 83,
   "id": "8901cd3f-edc1-4c44-9a66-ebaa5d2b3f5e",
   "metadata": {},
   "outputs": [
    {
     "name": "stdout",
     "output_type": "stream",
     "text": [
      "Order Statistics:\n",
      "The total amount of products is:  120\n",
      "The total amount of products ordered is:  6\n",
      "The percentage of products ordered is in relation to stock is: 5.0 %\n"
     ]
    }
   ],
   "source": [
    "#8 Print the order statistics using the following format:\n",
    "\n",
    "print (\"Order Statistics:\")\n",
    "print(\"The total amount of products is: \", total_available_products)\n",
    "print(\"The total amount of products ordered is: \", total_products_ordered)\n",
    "print(\"The percentage of products ordered is in relation to stock is:\", percentage_of_products_ordered,\"%\")"
   ]
  },
  {
   "cell_type": "code",
   "execution_count": 105,
   "id": "61db0f5b-6749-4a3c-9856-f812db319db0",
   "metadata": {},
   "outputs": [
    {
     "data": {
      "text/plain": [
       "dict_values([24, 85, 42, 40, 24])"
      ]
     },
     "execution_count": 105,
     "metadata": {},
     "output_type": "execute_result"
    }
   ],
   "source": [
    "#9 Update the inventory by subtracting 1 from the quantity of each product. Modify the inventory dictionary accordingly\n",
    "inventory.values()"
   ]
  },
  {
   "cell_type": "code",
   "execution_count": 106,
   "id": "d6eb3640-3cc3-49be-8c8e-cd09e5099b3d",
   "metadata": {},
   "outputs": [
    {
     "name": "stdout",
     "output_type": "stream",
     "text": [
      "{'t-shirt': 23, 'mug': 84, 'hat': 41, 'book': 39, 'keychain': 23}\n"
     ]
    }
   ],
   "source": [
    "for item in inventory:\n",
    "    inventory[item]-= 1\n",
    "print(inventory)"
   ]
  },
  {
   "cell_type": "code",
   "execution_count": null,
   "id": "49310329-58c0-457d-9221-f62c4e626a93",
   "metadata": {},
   "outputs": [],
   "source": [
    "#10 Print the updated inventory, displaying the quantity of each product on separate lines."
   ]
  },
  {
   "cell_type": "code",
   "execution_count": 107,
   "id": "e18a4321-7443-49af-897c-cc160f00ecd5",
   "metadata": {},
   "outputs": [],
   "source": [
    "import pprint"
   ]
  },
  {
   "cell_type": "code",
   "execution_count": 112,
   "id": "372d3c41-5ee1-44aa-b3c4-e69deb838580",
   "metadata": {},
   "outputs": [
    {
     "name": "stdout",
     "output_type": "stream",
     "text": [
      "{'book': 39,\n",
      " 'hat': 41,\n",
      " 'keychain': 23,\n",
      " 'mug': 84,\n",
      " 't-shirt': 23}\n"
     ]
    }
   ],
   "source": [
    "from pprint import pprint\n",
    "\n",
    "pprint(inventory, width=1)\n"
   ]
  },
  {
   "cell_type": "code",
   "execution_count": null,
   "id": "6747dc71-03b3-4475-b495-08941bed00c9",
   "metadata": {},
   "outputs": [],
   "source": []
  }
 ],
 "metadata": {
  "kernelspec": {
   "display_name": "Python 3 (ipykernel)",
   "language": "python",
   "name": "python3"
  },
  "language_info": {
   "codemirror_mode": {
    "name": "ipython",
    "version": 3
   },
   "file_extension": ".py",
   "mimetype": "text/x-python",
   "name": "python",
   "nbconvert_exporter": "python",
   "pygments_lexer": "ipython3",
   "version": "3.12.4"
  }
 },
 "nbformat": 4,
 "nbformat_minor": 5
}
